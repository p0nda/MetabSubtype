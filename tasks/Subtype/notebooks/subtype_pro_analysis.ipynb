{
 "cells": [
  {
   "cell_type": "code",
   "execution_count": 2,
   "metadata": {},
   "outputs": [],
   "source": [
    "import numpy as np\n",
    "import pandas as pd\n",
    "\n",
    "import os\n",
    "from collections import Counter\n",
    "\n",
    "import matplotlib.pyplot as plt\n",
    "import seaborn as sns\n",
    "import statannot\n",
    "\n",
    "from sklearn.utils import resample\n",
    "from sklearn.model_selection import train_test_split,GridSearchCV\n",
    "from sklearn.preprocessing import StandardScaler, LabelEncoder\n",
    "from sklearn.impute import SimpleImputer\n",
    "\n",
    "from lifelines import CoxPHFitter\n",
    "from lifelines import KaplanMeierFitter\n",
    "\n",
    "from lifelines.utils import concordance_index\n",
    "from xgboost import XGBRegressor,XGBClassifier\n",
    "from sklearn.linear_model import Lasso\n",
    "from sklearn.linear_model import ElasticNet\n",
    "\n",
    "from keras.models import Sequential\n",
    "from keras.layers import Dense, Dropout\n",
    "\n",
    "from scipy.stats import mannwhitneyu,wilcoxon,shapiro, levene, ttest_ind,f_oneway,kruskal\n",
    "\n",
    "\n",
    "from sklearn.model_selection import train_test_split\n",
    "from sklearn.preprocessing import LabelEncoder, normalize, StandardScaler\n",
    "from sklearn.metrics import roc_curve, auc, accuracy_score, make_scorer,precision_recall_curve\n",
    "from sklearn.model_selection import cross_val_score, StratifiedKFold\n",
    "from sklearn.linear_model import Lasso, LogisticRegression\n",
    "from sklearn.svm import SVC\n",
    "from abc import ABC, abstractmethod\n",
    "\n",
    "import shap\n",
    "\n",
    "import warnings\n",
    "warnings.filterwarnings(\"ignore\")\n"
   ]
  },
  {
   "cell_type": "markdown",
   "metadata": {},
   "source": [
    "# Prepare Data"
   ]
  },
  {
   "cell_type": "code",
   "execution_count": 3,
   "metadata": {},
   "outputs": [],
   "source": [
    "metab_df=pd.read_csv('../data/Using/metab.csv',index_col=0)\n",
    "sample_df=pd.read_csv('../data/Using/sample.csv',index_col=0)\n",
    "lipid_df=pd.read_csv('../data/Using/lipid.csv',index_col=0)\n",
    "# sample_df=chemical_sample_df\n",
    "# sample_df.set_index(\"Sample Name\",inplace=True)\n",
    "metab_cluster=pd.read_csv('../data/metab/cluster_result.csv',index_col=0)\n",
    "lipid_cluster=pd.read_csv('../data/lipid/cluster_result.csv',index_col=0)\n",
    "metab_num=metab_df.shape[1]\n",
    "lipid_num=lipid_df.shape[1]\n",
    "\n",
    "sample_df=sample_df.rename(columns={'TMN':'TNM'})\n"
   ]
  },
  {
   "cell_type": "code",
   "execution_count": 4,
   "metadata": {},
   "outputs": [
    {
     "data": {
      "text/html": [
       "<div>\n",
       "<style scoped>\n",
       "    .dataframe tbody tr th:only-of-type {\n",
       "        vertical-align: middle;\n",
       "    }\n",
       "\n",
       "    .dataframe tbody tr th {\n",
       "        vertical-align: top;\n",
       "    }\n",
       "\n",
       "    .dataframe thead th {\n",
       "        text-align: right;\n",
       "    }\n",
       "</style>\n",
       "<table border=\"1\" class=\"dataframe\">\n",
       "  <thead>\n",
       "    <tr style=\"text-align: right;\">\n",
       "      <th></th>\n",
       "      <th>nmf_3_clusters</th>\n",
       "      <th>kmeans_3_clusters</th>\n",
       "      <th>nmf_2_clusters</th>\n",
       "      <th>kmeans_2_clusters</th>\n",
       "      <th>batch</th>\n",
       "    </tr>\n",
       "  </thead>\n",
       "  <tbody>\n",
       "    <tr>\n",
       "      <th>1452</th>\n",
       "      <td>1</td>\n",
       "      <td>1</td>\n",
       "      <td>1</td>\n",
       "      <td>1</td>\n",
       "      <td>1</td>\n",
       "    </tr>\n",
       "    <tr>\n",
       "      <th>8339</th>\n",
       "      <td>1</td>\n",
       "      <td>1</td>\n",
       "      <td>1</td>\n",
       "      <td>1</td>\n",
       "      <td>1</td>\n",
       "    </tr>\n",
       "    <tr>\n",
       "      <th>5608</th>\n",
       "      <td>1</td>\n",
       "      <td>1</td>\n",
       "      <td>1</td>\n",
       "      <td>1</td>\n",
       "      <td>1</td>\n",
       "    </tr>\n",
       "    <tr>\n",
       "      <th>8232</th>\n",
       "      <td>3</td>\n",
       "      <td>3</td>\n",
       "      <td>2</td>\n",
       "      <td>2</td>\n",
       "      <td>1</td>\n",
       "    </tr>\n",
       "    <tr>\n",
       "      <th>8775</th>\n",
       "      <td>2</td>\n",
       "      <td>3</td>\n",
       "      <td>2</td>\n",
       "      <td>2</td>\n",
       "      <td>1</td>\n",
       "    </tr>\n",
       "    <tr>\n",
       "      <th>...</th>\n",
       "      <td>...</td>\n",
       "      <td>...</td>\n",
       "      <td>...</td>\n",
       "      <td>...</td>\n",
       "      <td>...</td>\n",
       "    </tr>\n",
       "    <tr>\n",
       "      <th>140143-T</th>\n",
       "      <td>1</td>\n",
       "      <td>2</td>\n",
       "      <td>1</td>\n",
       "      <td>1</td>\n",
       "      <td>2</td>\n",
       "    </tr>\n",
       "    <tr>\n",
       "      <th>190040-T</th>\n",
       "      <td>1</td>\n",
       "      <td>2</td>\n",
       "      <td>1</td>\n",
       "      <td>1</td>\n",
       "      <td>2</td>\n",
       "    </tr>\n",
       "    <tr>\n",
       "      <th>190161-T</th>\n",
       "      <td>3</td>\n",
       "      <td>2</td>\n",
       "      <td>2</td>\n",
       "      <td>1</td>\n",
       "      <td>2</td>\n",
       "    </tr>\n",
       "    <tr>\n",
       "      <th>200288-T</th>\n",
       "      <td>3</td>\n",
       "      <td>2</td>\n",
       "      <td>2</td>\n",
       "      <td>2</td>\n",
       "      <td>2</td>\n",
       "    </tr>\n",
       "    <tr>\n",
       "      <th>200131-T</th>\n",
       "      <td>3</td>\n",
       "      <td>2</td>\n",
       "      <td>2</td>\n",
       "      <td>1</td>\n",
       "      <td>2</td>\n",
       "    </tr>\n",
       "  </tbody>\n",
       "</table>\n",
       "<p>103 rows × 5 columns</p>\n",
       "</div>"
      ],
      "text/plain": [
       "          nmf_3_clusters  kmeans_3_clusters  nmf_2_clusters  \\\n",
       "1452                   1                  1               1   \n",
       "8339                   1                  1               1   \n",
       "5608                   1                  1               1   \n",
       "8232                   3                  3               2   \n",
       "8775                   2                  3               2   \n",
       "...                  ...                ...             ...   \n",
       "140143-T               1                  2               1   \n",
       "190040-T               1                  2               1   \n",
       "190161-T               3                  2               2   \n",
       "200288-T               3                  2               2   \n",
       "200131-T               3                  2               2   \n",
       "\n",
       "          kmeans_2_clusters  batch  \n",
       "1452                      1      1  \n",
       "8339                      1      1  \n",
       "5608                      1      1  \n",
       "8232                      2      1  \n",
       "8775                      2      1  \n",
       "...                     ...    ...  \n",
       "140143-T                  1      2  \n",
       "190040-T                  1      2  \n",
       "190161-T                  1      2  \n",
       "200288-T                  2      2  \n",
       "200131-T                  1      2  \n",
       "\n",
       "[103 rows x 5 columns]"
      ]
     },
     "execution_count": 4,
     "metadata": {},
     "output_type": "execute_result"
    }
   ],
   "source": [
    "metab_cluster"
   ]
  },
  {
   "cell_type": "code",
   "execution_count": 5,
   "metadata": {},
   "outputs": [],
   "source": [
    "sample_df['metab_cluster']=metab_cluster['kmeans_2_clusters'].reindex(sample_df.index)\n",
    "sample_df['lipid_cluster']=lipid_cluster['kmeans_2_clusters'].reindex(sample_df.index)"
   ]
  },
  {
   "cell_type": "code",
   "execution_count": 6,
   "metadata": {},
   "outputs": [],
   "source": [
    "sample_df=sample_df.dropna(axis=0,how='any',subset=['lipid_cluster','metab_cluster'])"
   ]
  },
  {
   "cell_type": "code",
   "execution_count": 7,
   "metadata": {},
   "outputs": [
    {
     "data": {
      "text/html": [
       "<div>\n",
       "<style scoped>\n",
       "    .dataframe tbody tr th:only-of-type {\n",
       "        vertical-align: middle;\n",
       "    }\n",
       "\n",
       "    .dataframe tbody tr th {\n",
       "        vertical-align: top;\n",
       "    }\n",
       "\n",
       "    .dataframe thead th {\n",
       "        text-align: right;\n",
       "    }\n",
       "</style>\n",
       "<table border=\"1\" class=\"dataframe\">\n",
       "  <thead>\n",
       "    <tr style=\"text-align: right;\">\n",
       "      <th></th>\n",
       "      <th>Unnamed: 0</th>\n",
       "      <th>hospital_id</th>\n",
       "      <th>Name</th>\n",
       "      <th>batch</th>\n",
       "      <th>os</th>\n",
       "      <th>oss</th>\n",
       "      <th>type</th>\n",
       "      <th>TNM</th>\n",
       "      <th>主要分型</th>\n",
       "      <th>次要分型</th>\n",
       "      <th>...</th>\n",
       "      <th>克隆</th>\n",
       "      <th>MT2结构</th>\n",
       "      <th>pTNMs</th>\n",
       "      <th>生存时间</th>\n",
       "      <th>状态</th>\n",
       "      <th>生存时间分组</th>\n",
       "      <th>ascl1</th>\n",
       "      <th>codex_new</th>\n",
       "      <th>metab_cluster</th>\n",
       "      <th>lipid_cluster</th>\n",
       "    </tr>\n",
       "    <tr>\n",
       "      <th>Sample Name</th>\n",
       "      <th></th>\n",
       "      <th></th>\n",
       "      <th></th>\n",
       "      <th></th>\n",
       "      <th></th>\n",
       "      <th></th>\n",
       "      <th></th>\n",
       "      <th></th>\n",
       "      <th></th>\n",
       "      <th></th>\n",
       "      <th></th>\n",
       "      <th></th>\n",
       "      <th></th>\n",
       "      <th></th>\n",
       "      <th></th>\n",
       "      <th></th>\n",
       "      <th></th>\n",
       "      <th></th>\n",
       "      <th></th>\n",
       "      <th></th>\n",
       "      <th></th>\n",
       "    </tr>\n",
       "  </thead>\n",
       "  <tbody>\n",
       "    <tr>\n",
       "      <th>1520</th>\n",
       "      <td>0.0</td>\n",
       "      <td>305980</td>\n",
       "      <td>张文东</td>\n",
       "      <td>1.0</td>\n",
       "      <td>140.67</td>\n",
       "      <td>1.0</td>\n",
       "      <td>Y</td>\n",
       "      <td>I</td>\n",
       "      <td>A</td>\n",
       "      <td>Y</td>\n",
       "      <td>...</td>\n",
       "      <td>2.0</td>\n",
       "      <td>high</td>\n",
       "      <td>I</td>\n",
       "      <td>140.666667</td>\n",
       "      <td>1.0</td>\n",
       "      <td>LTS</td>\n",
       "      <td>27.387988</td>\n",
       "      <td>N</td>\n",
       "      <td>2.0</td>\n",
       "      <td>2.0</td>\n",
       "    </tr>\n",
       "    <tr>\n",
       "      <th>2423</th>\n",
       "      <td>1.0</td>\n",
       "      <td>337236</td>\n",
       "      <td>章立球</td>\n",
       "      <td>1.0</td>\n",
       "      <td>90.33</td>\n",
       "      <td>1.0</td>\n",
       "      <td>N</td>\n",
       "      <td>I</td>\n",
       "      <td>A</td>\n",
       "      <td>NaN</td>\n",
       "      <td>...</td>\n",
       "      <td>1.0</td>\n",
       "      <td>low</td>\n",
       "      <td>I</td>\n",
       "      <td>90.333333</td>\n",
       "      <td>1.0</td>\n",
       "      <td>LTS</td>\n",
       "      <td>74.232005</td>\n",
       "      <td>A</td>\n",
       "      <td>1.0</td>\n",
       "      <td>2.0</td>\n",
       "    </tr>\n",
       "    <tr>\n",
       "      <th>3334</th>\n",
       "      <td>2.0</td>\n",
       "      <td>379551</td>\n",
       "      <td>高秀芬</td>\n",
       "      <td>1.0</td>\n",
       "      <td>80.97</td>\n",
       "      <td>1.0</td>\n",
       "      <td>Y</td>\n",
       "      <td>III</td>\n",
       "      <td>A</td>\n",
       "      <td>NaN</td>\n",
       "      <td>...</td>\n",
       "      <td>1.0</td>\n",
       "      <td>low</td>\n",
       "      <td>III</td>\n",
       "      <td>80.966667</td>\n",
       "      <td>1.0</td>\n",
       "      <td>LTS</td>\n",
       "      <td>71.903618</td>\n",
       "      <td>A</td>\n",
       "      <td>2.0</td>\n",
       "      <td>2.0</td>\n",
       "    </tr>\n",
       "    <tr>\n",
       "      <th>1277</th>\n",
       "      <td>3.0</td>\n",
       "      <td>297125</td>\n",
       "      <td>朱桂林</td>\n",
       "      <td>1.0</td>\n",
       "      <td>86.43</td>\n",
       "      <td>0.0</td>\n",
       "      <td>P</td>\n",
       "      <td>II</td>\n",
       "      <td>P</td>\n",
       "      <td>NaN</td>\n",
       "      <td>...</td>\n",
       "      <td>NaN</td>\n",
       "      <td>high</td>\n",
       "      <td>II</td>\n",
       "      <td>86.433333</td>\n",
       "      <td>0.0</td>\n",
       "      <td>LTS</td>\n",
       "      <td>NaN</td>\n",
       "      <td>NaN</td>\n",
       "      <td>2.0</td>\n",
       "      <td>2.0</td>\n",
       "    </tr>\n",
       "    <tr>\n",
       "      <th>4931</th>\n",
       "      <td>4.0</td>\n",
       "      <td>472789</td>\n",
       "      <td>刘经江</td>\n",
       "      <td>1.0</td>\n",
       "      <td>58.73</td>\n",
       "      <td>0.0</td>\n",
       "      <td>N</td>\n",
       "      <td>I</td>\n",
       "      <td>A</td>\n",
       "      <td>N</td>\n",
       "      <td>...</td>\n",
       "      <td>2.0</td>\n",
       "      <td>high</td>\n",
       "      <td>I</td>\n",
       "      <td>58.733333</td>\n",
       "      <td>0.0</td>\n",
       "      <td>LTS</td>\n",
       "      <td>69.037432</td>\n",
       "      <td>A</td>\n",
       "      <td>1.0</td>\n",
       "      <td>2.0</td>\n",
       "    </tr>\n",
       "    <tr>\n",
       "      <th>...</th>\n",
       "      <td>...</td>\n",
       "      <td>...</td>\n",
       "      <td>...</td>\n",
       "      <td>...</td>\n",
       "      <td>...</td>\n",
       "      <td>...</td>\n",
       "      <td>...</td>\n",
       "      <td>...</td>\n",
       "      <td>...</td>\n",
       "      <td>...</td>\n",
       "      <td>...</td>\n",
       "      <td>...</td>\n",
       "      <td>...</td>\n",
       "      <td>...</td>\n",
       "      <td>...</td>\n",
       "      <td>...</td>\n",
       "      <td>...</td>\n",
       "      <td>...</td>\n",
       "      <td>...</td>\n",
       "      <td>...</td>\n",
       "      <td>...</td>\n",
       "    </tr>\n",
       "    <tr>\n",
       "      <th>210011-T</th>\n",
       "      <td>100.0</td>\n",
       "      <td>2032993</td>\n",
       "      <td>周保珍</td>\n",
       "      <td>2.0</td>\n",
       "      <td>0.33</td>\n",
       "      <td>0.0</td>\n",
       "      <td>N</td>\n",
       "      <td>II</td>\n",
       "      <td>NaN</td>\n",
       "      <td>NaN</td>\n",
       "      <td>...</td>\n",
       "      <td>NaN</td>\n",
       "      <td>NaN</td>\n",
       "      <td>NaN</td>\n",
       "      <td>NaN</td>\n",
       "      <td>NaN</td>\n",
       "      <td>NaN</td>\n",
       "      <td>NaN</td>\n",
       "      <td>NaN</td>\n",
       "      <td>1.0</td>\n",
       "      <td>2.0</td>\n",
       "    </tr>\n",
       "    <tr>\n",
       "      <th>200095-T</th>\n",
       "      <td>102.0</td>\n",
       "      <td>643779</td>\n",
       "      <td>胡俊</td>\n",
       "      <td>2.0</td>\n",
       "      <td>10.30</td>\n",
       "      <td>1.0</td>\n",
       "      <td>P</td>\n",
       "      <td>II</td>\n",
       "      <td>NaN</td>\n",
       "      <td>NaN</td>\n",
       "      <td>...</td>\n",
       "      <td>NaN</td>\n",
       "      <td>NaN</td>\n",
       "      <td>NaN</td>\n",
       "      <td>NaN</td>\n",
       "      <td>NaN</td>\n",
       "      <td>STS</td>\n",
       "      <td>NaN</td>\n",
       "      <td>NaN</td>\n",
       "      <td>1.0</td>\n",
       "      <td>2.0</td>\n",
       "    </tr>\n",
       "    <tr>\n",
       "      <th>200097-T</th>\n",
       "      <td>103.0</td>\n",
       "      <td>646890</td>\n",
       "      <td>徐文德</td>\n",
       "      <td>2.0</td>\n",
       "      <td>9.47</td>\n",
       "      <td>0.0</td>\n",
       "      <td>A</td>\n",
       "      <td>II</td>\n",
       "      <td>NaN</td>\n",
       "      <td>NaN</td>\n",
       "      <td>...</td>\n",
       "      <td>NaN</td>\n",
       "      <td>NaN</td>\n",
       "      <td>NaN</td>\n",
       "      <td>NaN</td>\n",
       "      <td>NaN</td>\n",
       "      <td>NaN</td>\n",
       "      <td>NaN</td>\n",
       "      <td>NaN</td>\n",
       "      <td>1.0</td>\n",
       "      <td>2.0</td>\n",
       "    </tr>\n",
       "    <tr>\n",
       "      <th>200128-T</th>\n",
       "      <td>104.0</td>\n",
       "      <td>648528</td>\n",
       "      <td>王长余</td>\n",
       "      <td>2.0</td>\n",
       "      <td>24.97</td>\n",
       "      <td>1.0</td>\n",
       "      <td>A</td>\n",
       "      <td>I</td>\n",
       "      <td>NaN</td>\n",
       "      <td>NaN</td>\n",
       "      <td>...</td>\n",
       "      <td>NaN</td>\n",
       "      <td>NaN</td>\n",
       "      <td>NaN</td>\n",
       "      <td>NaN</td>\n",
       "      <td>NaN</td>\n",
       "      <td>NaN</td>\n",
       "      <td>NaN</td>\n",
       "      <td>NaN</td>\n",
       "      <td>2.0</td>\n",
       "      <td>2.0</td>\n",
       "    </tr>\n",
       "    <tr>\n",
       "      <th>200131-T</th>\n",
       "      <td>105.0</td>\n",
       "      <td>649477</td>\n",
       "      <td>张道选</td>\n",
       "      <td>2.0</td>\n",
       "      <td>16.23</td>\n",
       "      <td>0.0</td>\n",
       "      <td>A</td>\n",
       "      <td>III</td>\n",
       "      <td>NaN</td>\n",
       "      <td>NaN</td>\n",
       "      <td>...</td>\n",
       "      <td>NaN</td>\n",
       "      <td>NaN</td>\n",
       "      <td>NaN</td>\n",
       "      <td>NaN</td>\n",
       "      <td>NaN</td>\n",
       "      <td>NaN</td>\n",
       "      <td>NaN</td>\n",
       "      <td>NaN</td>\n",
       "      <td>1.0</td>\n",
       "      <td>1.0</td>\n",
       "    </tr>\n",
       "  </tbody>\n",
       "</table>\n",
       "<p>101 rows × 26 columns</p>\n",
       "</div>"
      ],
      "text/plain": [
       "             Unnamed: 0  hospital_id Name  batch      os  oss type  TNM 主要分型  \\\n",
       "Sample Name                                                                    \n",
       "1520                0.0       305980  张文东    1.0  140.67  1.0    Y    I    A   \n",
       "2423                1.0       337236  章立球    1.0   90.33  1.0    N    I    A   \n",
       "3334                2.0       379551  高秀芬    1.0   80.97  1.0    Y  III    A   \n",
       "1277                3.0       297125  朱桂林    1.0   86.43  0.0    P   II    P   \n",
       "4931                4.0       472789  刘经江    1.0   58.73  0.0    N    I    A   \n",
       "...                 ...          ...  ...    ...     ...  ...  ...  ...  ...   \n",
       "210011-T          100.0      2032993  周保珍    2.0    0.33  0.0    N   II  NaN   \n",
       "200095-T          102.0       643779   胡俊    2.0   10.30  1.0    P   II  NaN   \n",
       "200097-T          103.0       646890  徐文德    2.0    9.47  0.0    A   II  NaN   \n",
       "200128-T          104.0       648528  王长余    2.0   24.97  1.0    A    I  NaN   \n",
       "200131-T          105.0       649477  张道选    2.0   16.23  0.0    A  III  NaN   \n",
       "\n",
       "            次要分型  ...   克隆 MT2结构 pTNMs        生存时间   状态 生存时间分组      ascl1  \\\n",
       "Sample Name       ...                                                       \n",
       "1520           Y  ...  2.0  high     I  140.666667  1.0    LTS  27.387988   \n",
       "2423         NaN  ...  1.0   low     I   90.333333  1.0    LTS  74.232005   \n",
       "3334         NaN  ...  1.0   low   III   80.966667  1.0    LTS  71.903618   \n",
       "1277         NaN  ...  NaN  high    II   86.433333  0.0    LTS        NaN   \n",
       "4931           N  ...  2.0  high     I   58.733333  0.0    LTS  69.037432   \n",
       "...          ...  ...  ...   ...   ...         ...  ...    ...        ...   \n",
       "210011-T     NaN  ...  NaN   NaN   NaN         NaN  NaN    NaN        NaN   \n",
       "200095-T     NaN  ...  NaN   NaN   NaN         NaN  NaN    STS        NaN   \n",
       "200097-T     NaN  ...  NaN   NaN   NaN         NaN  NaN    NaN        NaN   \n",
       "200128-T     NaN  ...  NaN   NaN   NaN         NaN  NaN    NaN        NaN   \n",
       "200131-T     NaN  ...  NaN   NaN   NaN         NaN  NaN    NaN        NaN   \n",
       "\n",
       "            codex_new metab_cluster  lipid_cluster  \n",
       "Sample Name                                         \n",
       "1520                N           2.0            2.0  \n",
       "2423                A           1.0            2.0  \n",
       "3334                A           2.0            2.0  \n",
       "1277              NaN           2.0            2.0  \n",
       "4931                A           1.0            2.0  \n",
       "...               ...           ...            ...  \n",
       "210011-T          NaN           1.0            2.0  \n",
       "200095-T          NaN           1.0            2.0  \n",
       "200097-T          NaN           1.0            2.0  \n",
       "200128-T          NaN           2.0            2.0  \n",
       "200131-T          NaN           1.0            1.0  \n",
       "\n",
       "[101 rows x 26 columns]"
      ]
     },
     "execution_count": 7,
     "metadata": {},
     "output_type": "execute_result"
    }
   ],
   "source": [
    "sample_df"
   ]
  },
  {
   "cell_type": "code",
   "execution_count": 8,
   "metadata": {},
   "outputs": [
    {
     "data": {
      "text/plain": [
       "<Axes: xlabel='metab_cluster'>"
      ]
     },
     "execution_count": 8,
     "metadata": {},
     "output_type": "execute_result"
    },
    {
     "data": {
      "image/png": "[encoded data removed]",
      "text/plain": [
       "<Figure size 640x480 with 1 Axes>"
      ]
     },
     "metadata": {},
     "output_type": "display_data"
    }
   ],
   "source": [
    "sns.barplot(data=sample_df,x='metab_cluster',hue='type',dodge=True)"
   ]
  },
  {
   "cell_type": "code",
   "execution_count": 9,
   "metadata": {},
   "outputs": [
    {
     "data": {
      "text/plain": [
       "<Axes: xlabel='metab_cluster', ylabel='count'>"
      ]
     },
     "execution_count": 9,
     "metadata": {},
     "output_type": "execute_result"
    },
    {
     "data": {
      "image/png": "[encoded data removed]",
      "text/plain": [
       "<Figure size 640x480 with 1 Axes>"
      ]
     },
     "metadata": {},
     "output_type": "display_data"
    }
   ],
   "source": [
    "sns.countplot(data=sample_df,x='metab_cluster',hue='type',dodge=True)"
   ]
  },
  {
   "cell_type": "code",
   "execution_count": 10,
   "metadata": {},
   "outputs": [
    {
     "data": {
      "text/plain": [
       "<Axes: xlabel='metab_cluster', ylabel='count'>"
      ]
     },
     "execution_count": 10,
     "metadata": {},
     "output_type": "execute_result"
    },
    {
     "data": {
      "image/png": "[encoded data removed]",
      "text/plain": [
       "<Figure size 640x480 with 1 Axes>"
      ]
     },
     "metadata": {},
     "output_type": "display_data"
    }
   ],
   "source": [
    "sns.countplot(data=sample_df,x='metab_cluster',hue='type',dodge=True)"
   ]
  },
  {
   "cell_type": "code",
   "execution_count": 11,
   "metadata": {},
   "outputs": [
    {
     "data": {
      "text/plain": [
       "'/home/suh/anaconda3/envs/MetabSubtype/lib/python3.9/site-packages/matplotlib/mpl-data/matplotlibrc'"
      ]
     },
     "execution_count": 11,
     "metadata": {},
     "output_type": "execute_result"
    }
   ],
   "source": [
    "import matplotlib\n",
    "matplotlib.matplotlib_fname()"
   ]
  },
  {
   "cell_type": "code",
   "execution_count": 12,
   "metadata": {},
   "outputs": [
    {
     "data": {
      "text/plain": [
       "<matplotlib.font_manager.FontProperties at 0x7ff76a36ddc0>"
      ]
     },
     "execution_count": 12,
     "metadata": {},
     "output_type": "execute_result"
    }
   ],
   "source": [
    "zhfont1 = matplotlib.font_manager.FontProperties(fname=\"SimHei.ttf\") \n",
    "zhfont1"
   ]
  },
  {
   "cell_type": "code",
   "execution_count": 13,
   "metadata": {},
   "outputs": [
    {
     "data": {
      "text/plain": [
       "'/home/suh/.cache/matplotlib'"
      ]
     },
     "execution_count": 13,
     "metadata": {},
     "output_type": "execute_result"
    }
   ],
   "source": [
    "matplotlib.get_cachedir()"
   ]
  },
  {
   "cell_type": "code",
   "execution_count": 14,
   "metadata": {},
   "outputs": [],
   "source": [
    "# a=sorted([f.name for f in matplotlib.font_manager.fontManager.ttflist])\n",
    "\n",
    "# for i in a:\n",
    "#     print(i)"
   ]
  },
  {
   "cell_type": "code",
   "execution_count": 15,
   "metadata": {},
   "outputs": [
    {
     "data": {
      "text/plain": [
       "Index(['Unnamed: 0', 'hospital_id', 'Name', 'batch', 'os', 'oss', 'type',\n",
       "       'TNM', '主要分型', '次要分型', 'RNAseq分型', '尝试分型', '转录组分型', 'rfs', 'rfss',\n",
       "       'CODEX主要亚型', '克隆', 'MT2结构', 'pTNMs', '生存时间', '状态', '生存时间分组', 'ascl1',\n",
       "       'codex_new', 'metab_cluster', 'lipid_cluster'],\n",
       "      dtype='object')"
      ]
     },
     "execution_count": 15,
     "metadata": {},
     "output_type": "execute_result"
    }
   ],
   "source": [
    "sample_df.columns"
   ]
  },
  {
   "cell_type": "code",
   "execution_count": 16,
   "metadata": {},
   "outputs": [],
   "source": [
    "candidate_columns=['CODEX主要亚型','克隆','MT2结构','TNM']"
   ]
  },
  {
   "cell_type": "code",
   "execution_count": 17,
   "metadata": {},
   "outputs": [
    {
     "data": {
      "text/plain": [
       "<Figure size 640x480 with 0 Axes>"
      ]
     },
     "metadata": {},
     "output_type": "display_data"
    },
    {
     "data": {
      "image/png": "[encoded data removed]",
      "text/plain": [
       "<Figure size 500x400 with 1 Axes>"
      ]
     },
     "metadata": {},
     "output_type": "display_data"
    },
    {
     "data": {
      "image/png": "[encoded data removed]",
      "text/plain": [
       "<Figure size 500x400 with 1 Axes>"
      ]
     },
     "metadata": {},
     "output_type": "display_data"
    },
    {
     "data": {
      "image/png": "[encoded data removed]",
      "text/plain": [
       "<Figure size 500x400 with 1 Axes>"
      ]
     },
     "metadata": {},
     "output_type": "display_data"
    },
    {
     "data": {
      "image/png": "[encoded data removed]",
      "text/plain": [
       "<Figure size 500x400 with 1 Axes>"
      ]
     },
     "metadata": {},
     "output_type": "display_data"
    }
   ],
   "source": [
    "plt.rcParams[\"font.sans-serif\"]=[\"SimHei\"] #设置字体\n",
    "plt.rcParams[\"axes.unicode_minus\"]= False #设置字体\n",
    "stack_column=''\n",
    "for stack_column in candidate_columns:\n",
    "    \n",
    "# Group by 'cluster' and 'male', then count the occurrences\n",
    "    grouped = sample_df.groupby(['metab_cluster', stack_column]).size().unstack(fill_value=0)\n",
    "    grouped\n",
    "    grouped_percentage = grouped.div(grouped.sum(axis=1), axis=0) * 100\n",
    "\n",
    "    plt.set_cmap('Set1')\n",
    "    # Plot the stacked bar chart\n",
    "    # plt.figure(figsize=(2, 4))\n",
    "    fig,ax=plt.subplots()\n",
    "    grouped_percentage.plot(kind='bar', stacked=True,width=0.5,ax=ax,figsize=(5,4))\n",
    "    \n",
    "    # Customize the plot\n",
    "    plt.title(f'Number of {stack_column} per Cluster',fontproperties=zhfont1)\n",
    "    plt.xlabel('Cluster',fontproperties=zhfont1)\n",
    "    plt.ylabel('Count',fontproperties=zhfont1)\n",
    "    # plt.legend(title='Male', labels=['Female', 'Male'])\n",
    "\n",
    "    # Show the plot\n",
    "    # plt.show()"
   ]
  },
  {
   "cell_type": "code",
   "execution_count": null,
   "metadata": {},
   "outputs": [],
   "source": []
  },
  {
   "cell_type": "code",
   "execution_count": 18,
   "metadata": {},
   "outputs": [
    {
     "ename": "TypeError",
     "evalue": "bar() missing 2 required positional arguments: 'x' and 'height'",
     "output_type": "error",
     "traceback": [
      "\u001b[0;31m---------------------------------------------------------------------------\u001b[0m",
      "\u001b[0;31mTypeError\u001b[0m                                 Traceback (most recent call last)",
      "Cell \u001b[0;32mIn[18], line 2\u001b[0m\n\u001b[1;32m      1\u001b[0m plt\u001b[38;5;241m.\u001b[39mfigure()\n\u001b[0;32m----> 2\u001b[0m \u001b[43mplt\u001b[49m\u001b[38;5;241;43m.\u001b[39;49m\u001b[43mbar\u001b[49m\u001b[43m(\u001b[49m\u001b[43m)\u001b[49m\n",
      "\u001b[0;31mTypeError\u001b[0m: bar() missing 2 required positional arguments: 'x' and 'height'"
     ]
    },
    {
     "data": {
      "text/plain": [
       "<Figure size 640x480 with 0 Axes>"
      ]
     },
     "metadata": {},
     "output_type": "display_data"
    }
   ],
   "source": [
    "plt.figure()\n",
    "plt.bar()"
   ]
  },
  {
   "cell_type": "code",
   "execution_count": null,
   "metadata": {},
   "outputs": [
    {
     "data": {
      "text/plain": [
       "<Axes: xlabel='lipid_cluster', ylabel='count'>"
      ]
     },
     "execution_count": 37,
     "metadata": {},
     "output_type": "execute_result"
    },
    {
     "data": {
      "image/png": "[encoded data removed]",
      "text/plain": [
       "<Figure size 640x480 with 1 Axes>"
      ]
     },
     "metadata": {},
     "output_type": "display_data"
    }
   ],
   "source": [
    "sns.countplot(data=sample_df,x='lipid_cluster',hue='type',dodge=False)"
   ]
  },
  {
   "cell_type": "markdown",
   "metadata": {},
   "source": [
    "# Test"
   ]
  },
  {
   "cell_type": "code",
   "execution_count": null,
   "metadata": {},
   "outputs": [],
   "source": [
    "from transformers import AutoImageProcessor, AutoModelForImageClassification\n",
    "import requests"
   ]
  },
  {
   "cell_type": "code",
   "execution_count": null,
   "metadata": {},
   "outputs": [
    {
     "name": "stdout",
     "output_type": "stream",
     "text": [
      "Failure - Unable to establish connection: HTTPSConnectionPool(host='huggingface.co', port=443): Max retries exceeded with url: / (Caused by NewConnectionError('<urllib3.connection.HTTPSConnection object at 0x7fed207d7130>: Failed to establish a new connection: [Errno 110] Connection timed out')).\n"
     ]
    }
   ],
   "source": [
    "url='https://huggingface.co'\n",
    "try:\n",
    "    response=requests.options(url)\n",
    "    if response.ok:   # alternatively you can use response.status_code == 200\n",
    "        print(\"Success - API is accessible.\")\n",
    "    else:\n",
    "        print(f\"Failure - API is accessible but sth is not right. Response codde : {response.status_code}\")\n",
    "except (requests.exceptions.HTTPError, requests.exceptions.ConnectionError) as e:\n",
    "    print(f\"Failure - Unable to establish connection: {e}.\")\n",
    "except Exception as e:\n",
    "    print(f\"Failure - Unknown error occurred: {e}.\")"
   ]
  }
 ],
 "metadata": {
  "kernelspec": {
   "display_name": "MetabSubtype",
   "language": "python",
   "name": "python3"
  },
  "language_info": {
   "codemirror_mode": {
    "name": "ipython",
    "version": 3
   },
   "file_extension": ".py",
   "mimetype": "text/x-python",
   "name": "python",
   "nbconvert_exporter": "python",
   "pygments_lexer": "ipython3",
   "version": "3.9.18"
  }
 },
 "nbformat": 4,
 "nbformat_minor": 2
}
